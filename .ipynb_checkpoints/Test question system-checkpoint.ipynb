{
 "cells": [
  {
   "cell_type": "code",
   "execution_count": 34,
   "metadata": {},
   "outputs": [],
   "source": [
    "import json\n",
    "import random"
   ]
  },
  {
   "cell_type": "code",
   "execution_count": 46,
   "metadata": {},
   "outputs": [
    {
     "name": "stdout",
     "output_type": "stream",
     "text": [
      "to search a specific word go to the website\n",
      "https://www.merriam-webster.com/dictionary\n",
      "\n"
     ]
    }
   ],
   "source": [
    "print(\"to search a specific word go to the website\")\n",
    "print(\"https://www.merriam-webster.com/dictionary\")\n",
    "print()"
   ]
  },
  {
   "cell_type": "code",
   "execution_count": 14,
   "metadata": {},
   "outputs": [
    {
     "name": "stdout",
     "output_type": "stream",
     "text": [
      "enter data file name\n",
      "data1\n"
     ]
    }
   ],
   "source": [
    "print(\"enter data file name\")\n",
    "name=input()+\".json\""
   ]
  },
  {
   "cell_type": "code",
   "execution_count": 15,
   "metadata": {},
   "outputs": [],
   "source": [
    "with open('DATA OUT/'+name) as json_file:\n",
    "    data = json.load(json_file)"
   ]
  },
  {
   "cell_type": "code",
   "execution_count": 29,
   "metadata": {},
   "outputs": [
    {
     "name": "stdout",
     "output_type": "stream",
     "text": [
      "enter the range of question\n",
      "Starting question:\n",
      "0\n",
      "Ending question:\n",
      "51\n",
      "start :  0   end :  42\n"
     ]
    }
   ],
   "source": [
    "print(\"enter the range of question\")\n",
    "print(\"Starting question:\")\n",
    "st=max(int(input())-1,0)\n",
    "print(\"Ending question:\")\n",
    "ed=min(int(input()),len(data))\n",
    "print(\"start : \",st,\"  end : \",ed)"
   ]
  },
  {
   "cell_type": "code",
   "execution_count": 64,
   "metadata": {},
   "outputs": [],
   "source": [
    "all_words=list(data.keys())\n",
    "MwordsO=[]\n",
    "if ed==len(data):\n",
    "    MwordsO=all_words[st:]\n",
    "else:\n",
    "    MwordsO=all_words[st:ed]"
   ]
  },
  {
   "cell_type": "code",
   "execution_count": 50,
   "metadata": {},
   "outputs": [
    {
     "name": "stdout",
     "output_type": "stream",
     "text": [
      "Do you want the option to be restricted to the range(Y/n)\n",
      "N\n",
      "N\n",
      "enter the range of options\n",
      "Starting question:\n",
      "-1\n",
      "Ending question:\n",
      "100\n",
      "start :  0   end :  42\n"
     ]
    }
   ],
   "source": [
    "print(\"Do you want the option to be restricted to the range(Y/n)\")\n",
    "stC=0\n",
    "edC=len(data)\n",
    "opt=input()\n",
    "if(opt==\"Y\" or opt=='y'):\n",
    "    stC=st\n",
    "    edC=ed\n",
    "else:\n",
    "    print(\"enter the range of options\")\n",
    "    print(\"Starting question:\")\n",
    "    stC=max(int(input())-1,0)\n",
    "    print(\"Ending question:\")\n",
    "    edC=min(int(input()),len(data))\n",
    "    print(\"start : \",st,\"  end : \",ed)"
   ]
  },
  {
   "cell_type": "code",
   "execution_count": 45,
   "metadata": {},
   "outputs": [
    {
     "name": "stdout",
     "output_type": "stream",
     "text": [
      "Enter number of option to be displayed\n",
      "5\n"
     ]
    }
   ],
   "source": [
    "print(\"Enter number of option to be displayed\")\n",
    "num=max(int(input()),3)"
   ]
  },
  {
   "cell_type": "code",
   "execution_count": 59,
   "metadata": {},
   "outputs": [],
   "source": [
    "def question(data,word,st,ed,words,num):\n",
    "    \n",
    "    random_word_list = []\n",
    "    for i in range(num-1):\n",
    "        n = random.randint(st,ed-1)\n",
    "        random_word_list.append(words[n])\n",
    "    random_word_list.append(word)\n",
    "    random.shuffle(random_word_list)\n",
    "    x=random.randint(0,len(data[word][\"sent\"])-1)\n",
    "    print(data[word][\"sent\"][x])\n",
    "    print(\"\\n\\nOptions:\")\n",
    "    k=1\n",
    "    for i in random_word_list:\n",
    "        print(k,\". \",i)\n",
    "        k+=1\n",
    "    print(\"Please enter your answer\")\n",
    "    ans=int(input())-1\n",
    "    cor=False\n",
    "    if(random_word_list[ans]==word):\n",
    "        cor=True\n",
    "    \n",
    "    if cor:\n",
    "        print(\"Correct answer!!\")\n",
    "    else:\n",
    "        print(\"Sorry the correct answer is || \"+word+\" ||\")\n",
    "        \n",
    "    print(\"\\n\\n\\n===================Meanings=======================\")\n",
    "    \n",
    "    for i in random_word_list:\n",
    "        print(\"--------------------\",i,\"---------------------\")\n",
    "        print(data[i][\"meaning\"])\n",
    "\n",
    "    print(\"=============Synonyms of \"+word+\"================\")\n",
    "    print(data[word][\"synonyms\"])\n",
    "    print(\"=============Antonyms of \"+word+\"================\")\n",
    "    print(data[word][\"antonyms\"])\n",
    "    \n",
    "    return(cor)\n",
    "    "
   ]
  },
  {
   "cell_type": "code",
   "execution_count": 68,
   "metadata": {},
   "outputs": [],
   "source": [
    "def question_set(data,stC,edC,all_words,num,MwordsO):\n",
    "    \n",
    "    \n",
    "    Mwords=MwordsO[:]\n",
    "    \n",
    "    #########################################################\n",
    "    \n",
    "    print(\"Do you want the question jumbled up(Y/n)\")\n",
    "    temp=input()\n",
    "    if(temp!=\"Y\" or temp!=\"y\"):\n",
    "        random.shuffle(Mwords)\n",
    "    \n",
    "    ##########################################################\n",
    "    \n",
    "    print(\"Enter the target number of question to solve (< main words)\")   \n",
    "    nosi=min(int(input()),len(Mwords))\n",
    "    c=0\n",
    "    m=nosi\n",
    "    for i in range(len(Mwords)):\n",
    "        if i==nosi:\n",
    "            print(\"You have solved your target question do you want to solve the remaning?(Y/n)\")\n",
    "            temp=input()\n",
    "            if(temp!=\"Y\" or temp!=\"y\"):\n",
    "                break\n",
    "            else:\n",
    "                nosi=len(Mwords)\n",
    "        input(\"Press Enter to continue...\")\n",
    "        print(\"\\n\\n\\n\\n\\n|||||||||||||||||||||||||||||||||||||||||||||||||||||||||||||||||||||||||||||||||||||||||||\\n\\n\\n\")\n",
    "        print(\"Question: \",(i+1),\"/\",nosi,\"\\t\\t\\t\\t Score: \",c,\"/\",i)\n",
    "        if(question(data,Mwords[i],stC,edC,all_words,num)):\n",
    "            c+=1\n",
    "    print(\"Final Score is \",c,\"/\",nosi)\n",
    "    input(\"Press Enter to continue...\")\n",
    "        "
   ]
  },
  {
   "cell_type": "code",
   "execution_count": 70,
   "metadata": {},
   "outputs": [
    {
     "name": "stdout",
     "output_type": "stream",
     "text": [
      "Do you want to Practice more?(Y/n)\n",
      "Y\n"
     ]
    }
   ],
   "source": [
    "while(True):\n",
    "    print(\"Do you want to Practice more?(Y/n)\")\n",
    "    temp=input()\n",
    "    if(temp!=\"Y\" or temp!=\"y\"):\n",
    "        question_set(data,stC,edC,all_words,num,MwordsO)\n",
    "    else:\n",
    "        break"
   ]
  },
  {
   "cell_type": "code",
   "execution_count": null,
   "metadata": {},
   "outputs": [],
   "source": []
  }
 ],
 "metadata": {
  "kernelspec": {
   "display_name": "Python 3.7.7 64-bit ('keras_img': conda)",
   "language": "python",
   "name": "python37764bitkerasimgcondad84dbb1686e04d798c39792391e71d1c"
  },
  "language_info": {
   "codemirror_mode": {
    "name": "ipython",
    "version": 3
   },
   "file_extension": ".py",
   "mimetype": "text/x-python",
   "name": "python",
   "nbconvert_exporter": "python",
   "pygments_lexer": "ipython3",
   "version": "3.7.7"
  }
 },
 "nbformat": 4,
 "nbformat_minor": 4
}
