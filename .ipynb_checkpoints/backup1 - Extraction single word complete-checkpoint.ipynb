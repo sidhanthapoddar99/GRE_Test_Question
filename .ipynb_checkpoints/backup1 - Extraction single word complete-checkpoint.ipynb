{
 "cells": [
  {
   "cell_type": "code",
   "execution_count": 50,
   "metadata": {},
   "outputs": [],
   "source": [
    "from requests import get\n",
    "import json\n"
   ]
  },
  {
   "cell_type": "code",
   "execution_count": 2,
   "metadata": {},
   "outputs": [],
   "source": [
    "url=\"https://www.merriam-webster.com/dictionary/placate\""
   ]
  },
  {
   "cell_type": "code",
   "execution_count": 3,
   "metadata": {},
   "outputs": [
    {
     "name": "stdout",
     "output_type": "stream",
     "text": [
      "<!DOCTYPE html><html lang=\"en\"><head><meta http-equiv=\"x-ua-compatible\" content=\"ie=edge\"> <meta name=\"referrer\" content=\"unsafe-url\"> <meta property=\"fb:app_id\" content=\"178450008855735\"> <meta name=\"viewport\" content=\"width=device-width, initial-scale=1.0\"> <link rel=\"preconnect\" href=\"https://www.google-analytics.com\" crossorigin=\"\"> <link rel=\"preconnect\" href=\"https://js-sec.indexww.com\"> <link rel=\"preconnect\" href=\"https://securepubads.g.doubleclick.net\"> <link rel=\"preconnect\" href=\"http\n"
     ]
    }
   ],
   "source": [
    "response = get(url)\n",
    "print(response.text[:500])"
   ]
  },
  {
   "cell_type": "code",
   "execution_count": 4,
   "metadata": {},
   "outputs": [
    {
     "data": {
      "text/plain": [
       "bs4.BeautifulSoup"
      ]
     },
     "execution_count": 4,
     "metadata": {},
     "output_type": "execute_result"
    }
   ],
   "source": [
    "from bs4 import BeautifulSoup\n",
    "html_soup = BeautifulSoup(response.text, 'html.parser')\n",
    "type(html_soup)"
   ]
  },
  {
   "cell_type": "code",
   "execution_count": 35,
   "metadata": {},
   "outputs": [],
   "source": [
    "def antonyms(html_soup):\n",
    "    word_containers = html_soup.find_all('div', class_ = 'widget synonyms_list thesaurus-synonyms-module-anchor')\n",
    "    print(word_containers[0].find_all('ul', class_ = 'mw-list')[1].text)\n",
    "\n",
    "def synonyms(html_soup):\n",
    "    word_containers = html_soup.find_all('div', class_ = 'widget synonyms_list thesaurus-synonyms-module-anchor')\n",
    "    print(word_containers[0].find_all('ul', class_ = 'mw-list')[0].text)\n",
    "\n",
    "# def question_maker(sentence, word):\n",
    "#     st_index=sentence.find(word)\n",
    "#     en_index=st_index+len(word)\n",
    "#     return sentence[:st_index]+\"_______________\"+sentence[en_index:]\n",
    "    \n",
    "\n",
    "def sentences(html_soup):\n",
    "    \n",
    "    def question_maker(sentence, word):\n",
    "        st_index=sentence.find(word)\n",
    "        en_index=st_index+len(word)\n",
    "        return sentence[:st_index]+\"_______________\"+sentence[en_index:]\n",
    "    \n",
    "    word_containers = html_soup.find_all('span', class_ = 't has-aq')\n",
    "    \n",
    "    #print(type(word_containers))\n",
    "    #print(len(word_containers))\n",
    "    for word in word_containers:\n",
    "        #print(word.text)\n",
    "        wordt = html_soup.find_all('span', class_ = 'mw_t_qword')[0].text\n",
    "        \n",
    "        print(question_maker(word.text, wordt))\n",
    "        print(wordt)"
   ]
  },
  {
   "cell_type": "code",
   "execution_count": 36,
   "metadata": {},
   "outputs": [
    {
     "name": "stdout",
     "output_type": "stream",
     "text": [
      "Although Rumsfeld was later thrown overboard by the Administration in an attempt to _______________ critics of the Iraq War, his military revolution was here to stay.\n",
      "placate\n",
      "The first step that women took in their emancipation was to adopt traditional male roles: to insist on their right to wear trousers, not to _______________, not to smile, not to be decorative.\n",
      "placate\n",
      "These spirits inhabited natural objects, like rivers and mountains, including celestial bodies, like the sun and moon. They had to be _______________d and their favors sought in order to ensure the fertility of the soil and the rotation of the seasons.\n",
      "placate\n",
      "But it seems important to the Thunderbirds to make a big deal out of this; evidently it _______________s congressmen who don't think the Air Force should be in show biz.\n",
      "placate\n",
      "In seeking to _______________ bail reform opponents, the changes just pushed through expand courts’ ability to deny bail.\n",
      "placate\n",
      "If the company can’t _______________ Newsom ahead of the June 30 bankruptcy deadline, the settlements with both the fire victims and insurers could still fall apart.\n",
      "placate\n",
      "Lastly, few believe that a sale would _______________ America’s national-security apparatus, at least in the short run.\n",
      "placate\n",
      "The moves have done little to _______________ nervous investors, who have kept selling risky assets at a rapid clip as panic grows.\n",
      "placate\n",
      "The government’s promise to allocate some 9 million euros ($10.36 million) to thirty-six municipalities hosting asylum-seekers did little to _______________ opponents of its migration policies.\n",
      "placate\n",
      "Reagan also criticized his father's response to the AIDS epidemic and accused him of turning the other way to _______________ evangelicals.\n",
      "placate\n",
      "Ironman’s struggles illustrate the uncertainty of this moment as the company tries to _______________ its passionate customer base.\n",
      "placate\n",
      "The invitation to join the MSTF _______________d the concerns of postal workers for a time.\n",
      "placate\n"
     ]
    }
   ],
   "source": [
    "sentences(html_soup)"
   ]
  },
  {
   "cell_type": "code",
   "execution_count": null,
   "metadata": {},
   "outputs": [],
   "source": []
  },
  {
   "cell_type": "code",
   "execution_count": null,
   "metadata": {},
   "outputs": [],
   "source": []
  },
  {
   "cell_type": "code",
   "execution_count": null,
   "metadata": {},
   "outputs": [],
   "source": []
  },
  {
   "cell_type": "code",
   "execution_count": null,
   "metadata": {},
   "outputs": [],
   "source": []
  },
  {
   "cell_type": "code",
   "execution_count": null,
   "metadata": {},
   "outputs": [],
   "source": []
  },
  {
   "cell_type": "code",
   "execution_count": null,
   "metadata": {},
   "outputs": [],
   "source": []
  },
  {
   "cell_type": "code",
   "execution_count": null,
   "metadata": {},
   "outputs": [],
   "source": []
  },
  {
   "cell_type": "code",
   "execution_count": 48,
   "metadata": {},
   "outputs": [],
   "source": [
    "def wordX(wordx):\n",
    "    \n",
    "    dic={\"word\":wordx}\n",
    "    \n",
    "    def antonyms(html_soup):\n",
    "        word_containers = html_soup.find_all('div', class_ = 'widget synonyms_list thesaurus-synonyms-module-anchor')\n",
    "        print(word_containers[0].find_all('ul', class_ = 'mw-list')[1].text)\n",
    "        return word_containers[0].find_all('ul', class_ = 'mw-list')[1].text\n",
    "        \n",
    "    def synonyms(html_soup):\n",
    "        word_containers = html_soup.find_all('div', class_ = 'widget synonyms_list thesaurus-synonyms-module-anchor')\n",
    "        print(word_containers[0].find_all('ul', class_ = 'mw-list')[0].text)\n",
    "        return word_containers[0].find_all('ul', class_ = 'mw-list')[0].text\n",
    "\n",
    "    def sentences(html_soup,dic):\n",
    "        \n",
    "        def question_maker(sentence, word):\n",
    "            st_index=sentence.find(word)\n",
    "            en_index=st_index+len(word)\n",
    "            return sentence[:st_index]+\"_______________\"+sentence[en_index:]\n",
    "\n",
    "        word_containers = html_soup.find_all('span', class_ = 't has-aq')\n",
    "    \n",
    "        i=0\n",
    "\n",
    "        for word in word_containers:\n",
    "            wordt = html_soup.find_all('span', class_ = 'mw_t_qword')[0].text\n",
    "            q_m = question_maker(word.text, wordt)\n",
    "            print(q_m)\n",
    "            print(wordt)\n",
    "            print()\n",
    "            dic[\"word\"+str(i)]=wordt\n",
    "            dic[\"sent\"+str(i)]=q_m\n",
    "            i+=1\n",
    "    \n",
    "    urlx=\"https://www.merriam-webster.com/dictionary/\"+wordx\n",
    "    responsex = get(urlx)\n",
    "    html_soupx = BeautifulSoup(responsex.text, 'html.parser')\n",
    "    print(\"parsing started UrL received\")\n",
    "    sentences(html_soupx,dic)\n",
    "    dic[\"antonyms\"]=antonyms(html_soupx)\n",
    "    dic[\"synonyms\"]=synonyms(html_soupx)    \n",
    "    return dic\n",
    "    \n",
    "    \n"
   ]
  },
  {
   "cell_type": "code",
   "execution_count": 49,
   "metadata": {},
   "outputs": [
    {
     "name": "stdout",
     "output_type": "stream",
     "text": [
      "parsing started UrL received\n",
      "But I imagine he and his siblings, who profited handsomely from the sale, have mixed emotions. They may be sad they had to sell, yet relieved that they are no longer under pressure to _______________ Wall Street's demand for growth and profits.\n",
      "appease\n",
      "\n",
      "The first is that, in affluent America, mothering has gone from an art to a cult, with devotees driving themselves to ever more baroque extremes to _______________ the goddess of perfect motherhood.\n",
      "appease\n",
      "\n",
      "It was last summer, and Gingell, then Sun Microsystems's chief software engineer, had an excuse: His twin-engine Cessna had broken down, and he'd lost track of time while he gabbed on the phone with his mechanic. That wasn't likely to _______________ Sun's famously tart-tongued CEO, Scott McNealy, who was getting his introductory briefing on a vital new technology initiative that happened to be Gingell's brainchild.\n",
      "appease\n",
      "\n",
      "The California legislature's solution to this seemingly intractable problem was a politically appealing package with features to _______________ both utility investors and ratepayers.\n",
      "appease\n",
      "\n",
      "Most—if not all—have stumbled in that balancing act—abandoning one market for the other or building clones of their flagship tools to _______________ Beijing.\n",
      "appease\n",
      "\n",
      "During the most eventful stretch of months in recent history, 160 Tribune editorial staffers have been on furlough for a week out of each month to _______________ the boundless greed of corporate shareholders.\n",
      "appease\n",
      "\n",
      "Although that money is accomplishing real change on the state and local levels, some critics will always view these contributions as an attempt to _______________ players and dissuade them from protesting.\n",
      "appease\n",
      "\n",
      "White House press secretary Kayleigh McEnany also slammed Mattis for his words, calling it an attempt to _______________ the Washington, D.C., elite.\n",
      "appease\n",
      "\n",
      "Two of the people who attended said that seemed like a minor concession that did not appear to _______________ the many angry employees, some of whom repeatedly pointed out in questions that very few black people were attending the town hall.\n",
      "appease\n",
      "\n",
      "But in trying to placate everyone, Zuckerberg has failed to _______________ anyone.\n",
      "appease\n",
      "\n",
      "But his arrest has done little to _______________ enraged Americans, who know from years of similar deaths that such cases rarely result in convictions.\n",
      "appease\n",
      "\n",
      "That explanation has done little to _______________ restive employees who believe Zuckerberg is stretching Facebook's policies to avoid a confrontation with Trump.\n",
      "appease\n",
      "\n",
      "anger, enrage, incense, inflame (also enflame), infuriate, ire, madden, outrage\n",
      "assuage, conciliate, disarm, gentle, mollify, pacify, placate, propitiate\n"
     ]
    },
    {
     "data": {
      "text/plain": [
       "{'word': 'appease',\n",
       " 'word0': 'appease',\n",
       " 'sent0': \"But I imagine he and his siblings, who profited handsomely from the sale, have mixed emotions. They may be sad they had to sell, yet relieved that they are no longer under pressure to _______________ Wall Street's demand for growth and profits.\",\n",
       " 'word1': 'appease',\n",
       " 'sent1': 'The first is that, in affluent America, mothering has gone from an art to a cult, with devotees driving themselves to ever more baroque extremes to _______________ the goddess of perfect motherhood.',\n",
       " 'word2': 'appease',\n",
       " 'sent2': \"It was last summer, and Gingell, then Sun Microsystems's chief software engineer, had an excuse: His twin-engine Cessna had broken down, and he'd lost track of time while he gabbed on the phone with his mechanic. That wasn't likely to _______________ Sun's famously tart-tongued CEO, Scott McNealy, who was getting his introductory briefing on a vital new technology initiative that happened to be Gingell's brainchild.\",\n",
       " 'word3': 'appease',\n",
       " 'sent3': \"The California legislature's solution to this seemingly intractable problem was a politically appealing package with features to _______________ both utility investors and ratepayers.\",\n",
       " 'word4': 'appease',\n",
       " 'sent4': 'Most—if not all—have stumbled in that balancing act—abandoning one market for the other or building clones of their flagship tools to _______________ Beijing.',\n",
       " 'word5': 'appease',\n",
       " 'sent5': 'During the most eventful stretch of months in recent history, 160 Tribune editorial staffers have been on furlough for a week out of each month to _______________ the boundless greed of corporate shareholders.',\n",
       " 'word6': 'appease',\n",
       " 'sent6': 'Although that money is accomplishing real change on the state and local levels, some critics will always view these contributions as an attempt to _______________ players and dissuade them from protesting.',\n",
       " 'word7': 'appease',\n",
       " 'sent7': 'White House press secretary Kayleigh McEnany also slammed Mattis for his words, calling it an attempt to _______________ the Washington, D.C., elite.',\n",
       " 'word8': 'appease',\n",
       " 'sent8': 'Two of the people who attended said that seemed like a minor concession that did not appear to _______________ the many angry employees, some of whom repeatedly pointed out in questions that very few black people were attending the town hall.',\n",
       " 'word9': 'appease',\n",
       " 'sent9': 'But in trying to placate everyone, Zuckerberg has failed to _______________ anyone.',\n",
       " 'word10': 'appease',\n",
       " 'sent10': 'But his arrest has done little to _______________ enraged Americans, who know from years of similar deaths that such cases rarely result in convictions.',\n",
       " 'word11': 'appease',\n",
       " 'sent11': \"That explanation has done little to _______________ restive employees who believe Zuckerberg is stretching Facebook's policies to avoid a confrontation with Trump.\",\n",
       " 'antonyms': 'anger, enrage, incense, inflame (also enflame), infuriate, ire, madden, outrage',\n",
       " 'synonyms': 'assuage, conciliate, disarm, gentle, mollify, pacify, placate, propitiate'}"
      ]
     },
     "execution_count": 49,
     "metadata": {},
     "output_type": "execute_result"
    }
   ],
   "source": [
    "wordX(\"appease\")"
   ]
  },
  {
   "cell_type": "code",
   "execution_count": 43,
   "metadata": {},
   "outputs": [
    {
     "data": {
      "text/plain": [
       "'word1'"
      ]
     },
     "execution_count": 43,
     "metadata": {},
     "output_type": "execute_result"
    }
   ],
   "source": [
    "\"word\"+str(1)"
   ]
  },
  {
   "cell_type": "code",
   "execution_count": null,
   "metadata": {},
   "outputs": [],
   "source": []
  }
 ],
 "metadata": {
  "kernelspec": {
   "display_name": "Python 3",
   "language": "python",
   "name": "python3"
  },
  "language_info": {
   "codemirror_mode": {
    "name": "ipython",
    "version": 3
   },
   "file_extension": ".py",
   "mimetype": "text/x-python",
   "name": "python",
   "nbconvert_exporter": "python",
   "pygments_lexer": "ipython3",
   "version": "3.7.7"
  }
 },
 "nbformat": 4,
 "nbformat_minor": 2
}
